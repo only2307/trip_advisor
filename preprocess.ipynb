{
 "cells": [
  {
   "cell_type": "code",
   "execution_count": 1,
   "metadata": {},
   "outputs": [],
   "source": [
    "# Import libraries\n",
    "import pandas as pd"
   ]
  },
  {
   "cell_type": "code",
   "execution_count": 2,
   "metadata": {},
   "outputs": [
    {
     "data": {
      "text/html": [
       "<div>\n",
       "<style scoped>\n",
       "    .dataframe tbody tr th:only-of-type {\n",
       "        vertical-align: middle;\n",
       "    }\n",
       "\n",
       "    .dataframe tbody tr th {\n",
       "        vertical-align: top;\n",
       "    }\n",
       "\n",
       "    .dataframe thead th {\n",
       "        text-align: right;\n",
       "    }\n",
       "</style>\n",
       "<table border=\"1\" class=\"dataframe\">\n",
       "  <thead>\n",
       "    <tr style=\"text-align: right;\">\n",
       "      <th></th>\n",
       "      <th>Hotel</th>\n",
       "      <th>Rating</th>\n",
       "      <th>Review</th>\n",
       "      <th>Link</th>\n",
       "    </tr>\n",
       "  </thead>\n",
       "  <tbody>\n",
       "    <tr>\n",
       "      <th>0</th>\n",
       "      <td>Hotel Equatorial Ho Chi Minh City</td>\n",
       "      <td>4.5</td>\n",
       "      <td>1,684</td>\n",
       "      <td>https://www.tripadvisor.com/Hotel_Review-g2939...</td>\n",
       "    </tr>\n",
       "    <tr>\n",
       "      <th>1</th>\n",
       "      <td>Park Hyatt Saigon</td>\n",
       "      <td>4.5</td>\n",
       "      <td>3,676</td>\n",
       "      <td>https://www.tripadvisor.com/Hotel_Review-g2939...</td>\n",
       "    </tr>\n",
       "    <tr>\n",
       "      <th>2</th>\n",
       "      <td>New World Saigon Hotel</td>\n",
       "      <td>4.5</td>\n",
       "      <td>3,107</td>\n",
       "      <td>https://www.tripadvisor.com/Hotel_Review-g2939...</td>\n",
       "    </tr>\n",
       "    <tr>\n",
       "      <th>3</th>\n",
       "      <td>Liberty Central Saigon Riverside Hotel</td>\n",
       "      <td>4.5</td>\n",
       "      <td>3,012</td>\n",
       "      <td>https://www.tripadvisor.com/Hotel_Review-g2939...</td>\n",
       "    </tr>\n",
       "    <tr>\n",
       "      <th>4</th>\n",
       "      <td>Somerset Ho Chi Minh City</td>\n",
       "      <td>4.5</td>\n",
       "      <td>775</td>\n",
       "      <td>https://www.tripadvisor.com/Hotel_Review-g2939...</td>\n",
       "    </tr>\n",
       "  </tbody>\n",
       "</table>\n",
       "</div>"
      ],
      "text/plain": [
       "                                    Hotel  Rating Review  \\\n",
       "0       Hotel Equatorial Ho Chi Minh City     4.5  1,684   \n",
       "1                       Park Hyatt Saigon     4.5  3,676   \n",
       "2                  New World Saigon Hotel     4.5  3,107   \n",
       "3  Liberty Central Saigon Riverside Hotel     4.5  3,012   \n",
       "4               Somerset Ho Chi Minh City     4.5    775   \n",
       "\n",
       "                                                Link  \n",
       "0  https://www.tripadvisor.com/Hotel_Review-g2939...  \n",
       "1  https://www.tripadvisor.com/Hotel_Review-g2939...  \n",
       "2  https://www.tripadvisor.com/Hotel_Review-g2939...  \n",
       "3  https://www.tripadvisor.com/Hotel_Review-g2939...  \n",
       "4  https://www.tripadvisor.com/Hotel_Review-g2939...  "
      ]
     },
     "execution_count": 2,
     "metadata": {},
     "output_type": "execute_result"
    }
   ],
   "source": [
    "# Read data\n",
    "df = pd.read_csv('test.csv')\n",
    "df.head()"
   ]
  },
  {
   "cell_type": "code",
   "execution_count": 3,
   "metadata": {},
   "outputs": [
    {
     "name": "stdout",
     "output_type": "stream",
     "text": [
      "Data has 600 rows and 4 columns\n"
     ]
    }
   ],
   "source": [
    "print(f'Data has {df.shape[0]} rows and {df.shape[1]} columns')"
   ]
  },
  {
   "cell_type": "code",
   "execution_count": 4,
   "metadata": {},
   "outputs": [
    {
     "data": {
      "text/plain": [
       "Hotel      object\n",
       "Rating    float64\n",
       "Review     object\n",
       "Link       object\n",
       "dtype: object"
      ]
     },
     "execution_count": 4,
     "metadata": {},
     "output_type": "execute_result"
    }
   ],
   "source": [
    "df.dtypes"
   ]
  },
  {
   "cell_type": "code",
   "execution_count": 7,
   "metadata": {},
   "outputs": [
    {
     "data": {
      "text/html": [
       "<div>\n",
       "<style scoped>\n",
       "    .dataframe tbody tr th:only-of-type {\n",
       "        vertical-align: middle;\n",
       "    }\n",
       "\n",
       "    .dataframe tbody tr th {\n",
       "        vertical-align: top;\n",
       "    }\n",
       "\n",
       "    .dataframe thead th {\n",
       "        text-align: right;\n",
       "    }\n",
       "</style>\n",
       "<table border=\"1\" class=\"dataframe\">\n",
       "  <thead>\n",
       "    <tr style=\"text-align: right;\">\n",
       "      <th></th>\n",
       "      <th>Hotel</th>\n",
       "      <th>Rating</th>\n",
       "      <th>Review</th>\n",
       "      <th>Link</th>\n",
       "    </tr>\n",
       "  </thead>\n",
       "  <tbody>\n",
       "    <tr>\n",
       "      <th>0</th>\n",
       "      <td>Hotel Equatorial Ho Chi Minh City</td>\n",
       "      <td>4.5</td>\n",
       "      <td>1684</td>\n",
       "      <td>https://www.tripadvisor.com/Hotel_Review-g2939...</td>\n",
       "    </tr>\n",
       "    <tr>\n",
       "      <th>1</th>\n",
       "      <td>Park Hyatt Saigon</td>\n",
       "      <td>4.5</td>\n",
       "      <td>3676</td>\n",
       "      <td>https://www.tripadvisor.com/Hotel_Review-g2939...</td>\n",
       "    </tr>\n",
       "    <tr>\n",
       "      <th>2</th>\n",
       "      <td>New World Saigon Hotel</td>\n",
       "      <td>4.5</td>\n",
       "      <td>3107</td>\n",
       "      <td>https://www.tripadvisor.com/Hotel_Review-g2939...</td>\n",
       "    </tr>\n",
       "    <tr>\n",
       "      <th>3</th>\n",
       "      <td>Liberty Central Saigon Riverside Hotel</td>\n",
       "      <td>4.5</td>\n",
       "      <td>3012</td>\n",
       "      <td>https://www.tripadvisor.com/Hotel_Review-g2939...</td>\n",
       "    </tr>\n",
       "    <tr>\n",
       "      <th>4</th>\n",
       "      <td>Somerset Ho Chi Minh City</td>\n",
       "      <td>4.5</td>\n",
       "      <td>775</td>\n",
       "      <td>https://www.tripadvisor.com/Hotel_Review-g2939...</td>\n",
       "    </tr>\n",
       "    <tr>\n",
       "      <th>5</th>\n",
       "      <td>Caravelle Saigon</td>\n",
       "      <td>4.5</td>\n",
       "      <td>339</td>\n",
       "      <td>https://www.tripadvisor.com/Hotel_Review-g2939...</td>\n",
       "    </tr>\n",
       "    <tr>\n",
       "      <th>6</th>\n",
       "      <td>Bay Hotel Ho Chi Minh</td>\n",
       "      <td>4.0</td>\n",
       "      <td>443</td>\n",
       "      <td>https://www.tripadvisor.com/Hotel_Review-g2939...</td>\n",
       "    </tr>\n",
       "    <tr>\n",
       "      <th>7</th>\n",
       "      <td>Somerset Vista Ho Chi Minh City</td>\n",
       "      <td>4.5</td>\n",
       "      <td>148</td>\n",
       "      <td>https://www.tripadvisor.com/Hotel_Review-g2939...</td>\n",
       "    </tr>\n",
       "    <tr>\n",
       "      <th>8</th>\n",
       "      <td>Vinpearl Landmark 81, Autograph Collection</td>\n",
       "      <td>5.0</td>\n",
       "      <td>613</td>\n",
       "      <td>https://www.tripadvisor.com/Hotel_Review-g2939...</td>\n",
       "    </tr>\n",
       "    <tr>\n",
       "      <th>9</th>\n",
       "      <td>Au Lac Charner Hotel</td>\n",
       "      <td>4.5</td>\n",
       "      <td>563</td>\n",
       "      <td>https://www.tripadvisor.com/Hotel_Review-g2939...</td>\n",
       "    </tr>\n",
       "  </tbody>\n",
       "</table>\n",
       "</div>"
      ],
      "text/plain": [
       "                                        Hotel  Rating  Review  \\\n",
       "0           Hotel Equatorial Ho Chi Minh City     4.5    1684   \n",
       "1                           Park Hyatt Saigon     4.5    3676   \n",
       "2                      New World Saigon Hotel     4.5    3107   \n",
       "3      Liberty Central Saigon Riverside Hotel     4.5    3012   \n",
       "4                   Somerset Ho Chi Minh City     4.5     775   \n",
       "5                            Caravelle Saigon     4.5     339   \n",
       "6                       Bay Hotel Ho Chi Minh     4.0     443   \n",
       "7             Somerset Vista Ho Chi Minh City     4.5     148   \n",
       "8  Vinpearl Landmark 81, Autograph Collection     5.0     613   \n",
       "9                        Au Lac Charner Hotel     4.5     563   \n",
       "\n",
       "                                                Link  \n",
       "0  https://www.tripadvisor.com/Hotel_Review-g2939...  \n",
       "1  https://www.tripadvisor.com/Hotel_Review-g2939...  \n",
       "2  https://www.tripadvisor.com/Hotel_Review-g2939...  \n",
       "3  https://www.tripadvisor.com/Hotel_Review-g2939...  \n",
       "4  https://www.tripadvisor.com/Hotel_Review-g2939...  \n",
       "5  https://www.tripadvisor.com/Hotel_Review-g2939...  \n",
       "6  https://www.tripadvisor.com/Hotel_Review-g2939...  \n",
       "7  https://www.tripadvisor.com/Hotel_Review-g2939...  \n",
       "8  https://www.tripadvisor.com/Hotel_Review-g2939...  \n",
       "9  https://www.tripadvisor.com/Hotel_Review-g2939...  "
      ]
     },
     "execution_count": 7,
     "metadata": {},
     "output_type": "execute_result"
    }
   ],
   "source": [
    "# change 'Review' to int\n",
    "df['Review'] = df['Review'].str.replace(',', '').astype(int)\n",
    "df.head(10)"
   ]
  }
 ],
 "metadata": {
  "kernelspec": {
   "display_name": "min_ds-env",
   "language": "python",
   "name": "python3"
  },
  "language_info": {
   "codemirror_mode": {
    "name": "ipython",
    "version": 3
   },
   "file_extension": ".py",
   "mimetype": "text/x-python",
   "name": "python",
   "nbconvert_exporter": "python",
   "pygments_lexer": "ipython3",
   "version": "3.8.13"
  },
  "orig_nbformat": 4,
  "vscode": {
   "interpreter": {
    "hash": "75f664e96f1f8a5c948703ea7d157564400f3a8fe808c13030657b82a90b0c95"
   }
  }
 },
 "nbformat": 4,
 "nbformat_minor": 2
}
