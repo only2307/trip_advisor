{
 "cells": [
  {
   "cell_type": "code",
   "execution_count": 1,
   "metadata": {},
   "outputs": [],
   "source": [
    "# Import libraries\n",
    "import pandas as pd"
   ]
  },
  {
   "cell_type": "code",
   "execution_count": 2,
   "metadata": {},
   "outputs": [
    {
     "data": {
      "text/html": [
       "<div>\n",
       "<style scoped>\n",
       "    .dataframe tbody tr th:only-of-type {\n",
       "        vertical-align: middle;\n",
       "    }\n",
       "\n",
       "    .dataframe tbody tr th {\n",
       "        vertical-align: top;\n",
       "    }\n",
       "\n",
       "    .dataframe thead th {\n",
       "        text-align: right;\n",
       "    }\n",
       "</style>\n",
       "<table border=\"1\" class=\"dataframe\">\n",
       "  <thead>\n",
       "    <tr style=\"text-align: right;\">\n",
       "      <th></th>\n",
       "      <th>Date</th>\n",
       "      <th>Rating</th>\n",
       "      <th>Title</th>\n",
       "      <th>Review</th>\n",
       "    </tr>\n",
       "  </thead>\n",
       "  <tbody>\n",
       "    <tr>\n",
       "      <th>0</th>\n",
       "      <td>Date of stay: December 2022</td>\n",
       "      <td>50</td>\n",
       "      <td>Excellent customer services</td>\n",
       "      <td>I’ve received excellent and courteous services...</td>\n",
       "    </tr>\n",
       "    <tr>\n",
       "      <th>1</th>\n",
       "      <td>Date of stay: December 2022</td>\n",
       "      <td>10</td>\n",
       "      <td>Park Hyatt, where's the passion?</td>\n",
       "      <td>We went to Park Lounge to enjoy breakfast and ...</td>\n",
       "    </tr>\n",
       "    <tr>\n",
       "      <th>2</th>\n",
       "      <td>Date of stay: December 2022</td>\n",
       "      <td>50</td>\n",
       "      <td>Everything I thought it would be</td>\n",
       "      <td>Charming and beautiful hotel near everything r...</td>\n",
       "    </tr>\n",
       "    <tr>\n",
       "      <th>3</th>\n",
       "      <td>Date of stay: December 2022</td>\n",
       "      <td>50</td>\n",
       "      <td>beautiful hotel and excellent service</td>\n",
       "      <td>very pleasant stay. Extremely professional ser...</td>\n",
       "    </tr>\n",
       "    <tr>\n",
       "      <th>4</th>\n",
       "      <td>Date of stay: December 2022</td>\n",
       "      <td>50</td>\n",
       "      <td>Extraordinary</td>\n",
       "      <td>I stayed in Pak Hyatt for a week in December 2...</td>\n",
       "    </tr>\n",
       "  </tbody>\n",
       "</table>\n",
       "</div>"
      ],
      "text/plain": [
       "                          Date  Rating                                  Title  \\\n",
       "0  Date of stay: December 2022      50            Excellent customer services   \n",
       "1  Date of stay: December 2022      10       Park Hyatt, where's the passion?   \n",
       "2  Date of stay: December 2022      50       Everything I thought it would be   \n",
       "3  Date of stay: December 2022      50  beautiful hotel and excellent service   \n",
       "4  Date of stay: December 2022      50                          Extraordinary   \n",
       "\n",
       "                                              Review  \n",
       "0  I’ve received excellent and courteous services...  \n",
       "1  We went to Park Lounge to enjoy breakfast and ...  \n",
       "2  Charming and beautiful hotel near everything r...  \n",
       "3  very pleasant stay. Extremely professional ser...  \n",
       "4  I stayed in Pak Hyatt for a week in December 2...  "
      ]
     },
     "execution_count": 2,
     "metadata": {},
     "output_type": "execute_result"
    }
   ],
   "source": [
    "# Read data\n",
    "df = pd.read_csv('hoteldata.csv')\n",
    "df.head()"
   ]
  },
  {
   "cell_type": "code",
   "execution_count": 3,
   "metadata": {},
   "outputs": [
    {
     "name": "stdout",
     "output_type": "stream",
     "text": [
      "Data has 100 rows and 4 columns\n"
     ]
    }
   ],
   "source": [
    "print(f'Data has {df.shape[0]} rows and {df.shape[1]} columns')"
   ]
  },
  {
   "cell_type": "code",
   "execution_count": 4,
   "metadata": {},
   "outputs": [
    {
     "data": {
      "text/plain": [
       "Date      object\n",
       "Rating     int64\n",
       "Title     object\n",
       "Review    object\n",
       "dtype: object"
      ]
     },
     "execution_count": 4,
     "metadata": {},
     "output_type": "execute_result"
    }
   ],
   "source": [
    "df.dtypes"
   ]
  },
  {
   "cell_type": "code",
   "execution_count": 5,
   "metadata": {},
   "outputs": [
    {
     "data": {
      "text/html": [
       "<div>\n",
       "<style scoped>\n",
       "    .dataframe tbody tr th:only-of-type {\n",
       "        vertical-align: middle;\n",
       "    }\n",
       "\n",
       "    .dataframe tbody tr th {\n",
       "        vertical-align: top;\n",
       "    }\n",
       "\n",
       "    .dataframe thead th {\n",
       "        text-align: right;\n",
       "    }\n",
       "</style>\n",
       "<table border=\"1\" class=\"dataframe\">\n",
       "  <thead>\n",
       "    <tr style=\"text-align: right;\">\n",
       "      <th></th>\n",
       "      <th>Date</th>\n",
       "      <th>Rating</th>\n",
       "      <th>Title</th>\n",
       "      <th>Review</th>\n",
       "    </tr>\n",
       "  </thead>\n",
       "  <tbody>\n",
       "    <tr>\n",
       "      <th>0</th>\n",
       "      <td>Date of stay: December 2022</td>\n",
       "      <td>5.0</td>\n",
       "      <td>Excellent customer services</td>\n",
       "      <td>I’ve received excellent and courteous services...</td>\n",
       "    </tr>\n",
       "    <tr>\n",
       "      <th>1</th>\n",
       "      <td>Date of stay: December 2022</td>\n",
       "      <td>1.0</td>\n",
       "      <td>Park Hyatt, where's the passion?</td>\n",
       "      <td>We went to Park Lounge to enjoy breakfast and ...</td>\n",
       "    </tr>\n",
       "    <tr>\n",
       "      <th>2</th>\n",
       "      <td>Date of stay: December 2022</td>\n",
       "      <td>5.0</td>\n",
       "      <td>Everything I thought it would be</td>\n",
       "      <td>Charming and beautiful hotel near everything r...</td>\n",
       "    </tr>\n",
       "    <tr>\n",
       "      <th>3</th>\n",
       "      <td>Date of stay: December 2022</td>\n",
       "      <td>5.0</td>\n",
       "      <td>beautiful hotel and excellent service</td>\n",
       "      <td>very pleasant stay. Extremely professional ser...</td>\n",
       "    </tr>\n",
       "    <tr>\n",
       "      <th>4</th>\n",
       "      <td>Date of stay: December 2022</td>\n",
       "      <td>5.0</td>\n",
       "      <td>Extraordinary</td>\n",
       "      <td>I stayed in Pak Hyatt for a week in December 2...</td>\n",
       "    </tr>\n",
       "    <tr>\n",
       "      <th>5</th>\n",
       "      <td>Date of stay: December 2022</td>\n",
       "      <td>5.0</td>\n",
       "      <td>Just great</td>\n",
       "      <td>I could not expect more. The location is wonde...</td>\n",
       "    </tr>\n",
       "    <tr>\n",
       "      <th>6</th>\n",
       "      <td>Date of stay: December 2022</td>\n",
       "      <td>5.0</td>\n",
       "      <td>Awesome experience At Park Hyatt</td>\n",
       "      <td>Located in a very strategic place if you’re lo...</td>\n",
       "    </tr>\n",
       "    <tr>\n",
       "      <th>7</th>\n",
       "      <td>Date of stay: December 2022</td>\n",
       "      <td>5.0</td>\n",
       "      <td>Great Park Hyatt</td>\n",
       "      <td>A great hotel in a great location. I haven’t s...</td>\n",
       "    </tr>\n",
       "    <tr>\n",
       "      <th>8</th>\n",
       "      <td>Date of stay: November 2022</td>\n",
       "      <td>5.0</td>\n",
       "      <td>A wonderful, refined Park Hyatt property</td>\n",
       "      <td>If I'm being frank I wasn't expecting to like ...</td>\n",
       "    </tr>\n",
       "    <tr>\n",
       "      <th>9</th>\n",
       "      <td>Date of stay: November 2022</td>\n",
       "      <td>5.0</td>\n",
       "      <td>awesome</td>\n",
       "      <td>wonderful experience. My room had even a fruit...</td>\n",
       "    </tr>\n",
       "  </tbody>\n",
       "</table>\n",
       "</div>"
      ],
      "text/plain": [
       "                          Date  Rating  \\\n",
       "0  Date of stay: December 2022     5.0   \n",
       "1  Date of stay: December 2022     1.0   \n",
       "2  Date of stay: December 2022     5.0   \n",
       "3  Date of stay: December 2022     5.0   \n",
       "4  Date of stay: December 2022     5.0   \n",
       "5  Date of stay: December 2022     5.0   \n",
       "6  Date of stay: December 2022     5.0   \n",
       "7  Date of stay: December 2022     5.0   \n",
       "8  Date of stay: November 2022     5.0   \n",
       "9  Date of stay: November 2022     5.0   \n",
       "\n",
       "                                      Title  \\\n",
       "0               Excellent customer services   \n",
       "1          Park Hyatt, where's the passion?   \n",
       "2          Everything I thought it would be   \n",
       "3     beautiful hotel and excellent service   \n",
       "4                             Extraordinary   \n",
       "5                                Just great   \n",
       "6          Awesome experience At Park Hyatt   \n",
       "7                          Great Park Hyatt   \n",
       "8  A wonderful, refined Park Hyatt property   \n",
       "9                                   awesome   \n",
       "\n",
       "                                              Review  \n",
       "0  I’ve received excellent and courteous services...  \n",
       "1  We went to Park Lounge to enjoy breakfast and ...  \n",
       "2  Charming and beautiful hotel near everything r...  \n",
       "3  very pleasant stay. Extremely professional ser...  \n",
       "4  I stayed in Pak Hyatt for a week in December 2...  \n",
       "5  I could not expect more. The location is wonde...  \n",
       "6  Located in a very strategic place if you’re lo...  \n",
       "7  A great hotel in a great location. I haven’t s...  \n",
       "8  If I'm being frank I wasn't expecting to like ...  \n",
       "9  wonderful experience. My room had even a fruit...  "
      ]
     },
     "execution_count": 5,
     "metadata": {},
     "output_type": "execute_result"
    }
   ],
   "source": [
    "# change 'Rating' by divide to 10\n",
    "df['Rating'] = df['Rating'] / 10\n",
    "df.head(10)"
   ]
  }
 ],
 "metadata": {
  "kernelspec": {
   "display_name": "min_ds-env",
   "language": "python",
   "name": "python3"
  },
  "language_info": {
   "codemirror_mode": {
    "name": "ipython",
    "version": 3
   },
   "file_extension": ".py",
   "mimetype": "text/x-python",
   "name": "python",
   "nbconvert_exporter": "python",
   "pygments_lexer": "ipython3",
   "version": "3.8.13"
  },
  "orig_nbformat": 4,
  "vscode": {
   "interpreter": {
    "hash": "75f664e96f1f8a5c948703ea7d157564400f3a8fe808c13030657b82a90b0c95"
   }
  }
 },
 "nbformat": 4,
 "nbformat_minor": 2
}
